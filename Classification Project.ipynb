{
 "cells": [
  {
   "cell_type": "markdown",
   "metadata": {},
   "source": [
    "#  Classification"
   ]
  },
  {
   "cell_type": "markdown",
   "metadata": {},
   "source": [
    "# <font color=\"#0995EC\"> I. Introduction </font>\n",
    "\n",
    "\n",
    "*The objective is to perform classification models on the datasets(training and testing) using the following algorithms: *\n",
    "\n",
    "**1. Pocket Algorithm**<br>\n",
    "**2. Quadratic Discriminant Analysis**<br>\n",
    "**3. Linear Discriminant Analysis**<br>\n",
    "**4. Logistic Regression ** \n",
    "\n",
    "*The algorithms implemented in this notebook are applied to Customer Credit Card Default Payment dataset. Experiment have been performed by partitioning the dataset into training and testing and then the results are compared.*"
   ]
  },
  {
   "cell_type": "markdown",
   "metadata": {},
   "source": [
    "# <font color=\"#FE2E64\">  II. Data </font>"
   ]
  },
  {
   "cell_type": "markdown",
   "metadata": {},
   "source": [
    "## Dataset Description:\n",
    "This research was conducted in Chung Hua University, Taiwan and aims at customer's credit card default payments. The goal is to classify whether the customer will have a default payment for the following month or not. The dataset has 23 inputs on which the decision will depend.\n",
    "\n",
    "**It consists of the following attributes:**\n",
    "1. default payment (Yes = 1, No = 0) \n",
    "2. X1: Amount of the given credit\n",
    "3. X2: Gender (1 = male; 2 = female). \n",
    "4. X3: Education (1 = graduate school; 2 = university; 3 = high school; 4 = others). \n",
    "5. X4: Marital status (1 = married; 2 = single; 3 = others). \n",
    "6. X5: Age (year). \n",
    "7. X6 - X11: History of past payment. Tracked the past monthly payment records (from April to September, for the year 2005) as follows:<br>\n",
    "X6 = the repayment status in September, 2005; X7 = the repayment status in August, 2005; . . .;X11 = the repayment status in April, 2005.<br>\n",
    "The measurement scale for the repayment status is: -1 = pay duly; 1 = payment delay for one month; 2 = payment delay for two months; . . .; 8 = payment delay for eight months; 9 = payment delay for nine months and above. \n",
    "8. X12-X17: Amount of bill statement.<br>\n",
    "X12 = amount of bill statement in September, 2005; X13 = amount of bill statement in August, 2005; . . .; X17 = amount of bill statement in April, 2005. \n",
    "9. X18-X23: Amount of previous payment. <br>\n",
    "X18 = amount paid in September, 2005; X19 = amount paid in August, 2005; . . .;X23 = amount paid in April, 2005."
   ]
  },
  {
   "cell_type": "markdown",
   "metadata": {},
   "source": [
    "## Source of data\n",
    "https://archive.ics.uci.edu/ml/machine-learning-databases/00350/"
   ]
  },
  {
   "cell_type": "code",
   "execution_count": 2,
   "metadata": {},
   "outputs": [],
   "source": [
    "import pandas as pd\n",
    "import numpy as np\n",
    "import matplotlib.pyplot as plt\n",
    "%matplotlib inline\n",
    "import seaborn as sns\n",
    "import math\n",
    "import copy\n",
    "from IPython.display import display, Markdown"
   ]
  },
  {
   "cell_type": "markdown",
   "metadata": {},
   "source": [
    "### Sample of first few rows"
   ]
  },
  {
   "cell_type": "code",
   "execution_count": 3,
   "metadata": {
    "slideshow": {
     "slide_type": "fragment"
    }
   },
   "outputs": [
    {
     "data": {
      "text/html": [
       "<div>\n",
       "<style scoped>\n",
       "    .dataframe tbody tr th:only-of-type {\n",
       "        vertical-align: middle;\n",
       "    }\n",
       "\n",
       "    .dataframe tbody tr th {\n",
       "        vertical-align: top;\n",
       "    }\n",
       "\n",
       "    .dataframe thead th {\n",
       "        text-align: right;\n",
       "    }\n",
       "</style>\n",
       "<table border=\"1\" class=\"dataframe\">\n",
       "  <thead>\n",
       "    <tr style=\"text-align: right;\">\n",
       "      <th></th>\n",
       "      <th>ID</th>\n",
       "      <th>LIMIT_BAL</th>\n",
       "      <th>SEX</th>\n",
       "      <th>EDUCATION</th>\n",
       "      <th>MARRIAGE</th>\n",
       "      <th>AGE</th>\n",
       "      <th>PAY_1</th>\n",
       "      <th>PAY_2</th>\n",
       "      <th>PAY_3</th>\n",
       "      <th>PAY_4</th>\n",
       "      <th>...</th>\n",
       "      <th>BILL_AMT4</th>\n",
       "      <th>BILL_AMT5</th>\n",
       "      <th>BILL_AMT6</th>\n",
       "      <th>PAY_AMT1</th>\n",
       "      <th>PAY_AMT2</th>\n",
       "      <th>PAY_AMT3</th>\n",
       "      <th>PAY_AMT4</th>\n",
       "      <th>PAY_AMT5</th>\n",
       "      <th>PAY_AMT6</th>\n",
       "      <th>default payment next month</th>\n",
       "    </tr>\n",
       "  </thead>\n",
       "  <tbody>\n",
       "    <tr>\n",
       "      <th>0</th>\n",
       "      <td>1</td>\n",
       "      <td>20000</td>\n",
       "      <td>2</td>\n",
       "      <td>2</td>\n",
       "      <td>1</td>\n",
       "      <td>24</td>\n",
       "      <td>2</td>\n",
       "      <td>2</td>\n",
       "      <td>-1</td>\n",
       "      <td>-1</td>\n",
       "      <td>...</td>\n",
       "      <td>0</td>\n",
       "      <td>0</td>\n",
       "      <td>0</td>\n",
       "      <td>0</td>\n",
       "      <td>689</td>\n",
       "      <td>0</td>\n",
       "      <td>0</td>\n",
       "      <td>0</td>\n",
       "      <td>0</td>\n",
       "      <td>1</td>\n",
       "    </tr>\n",
       "    <tr>\n",
       "      <th>1</th>\n",
       "      <td>2</td>\n",
       "      <td>120000</td>\n",
       "      <td>2</td>\n",
       "      <td>2</td>\n",
       "      <td>2</td>\n",
       "      <td>26</td>\n",
       "      <td>-1</td>\n",
       "      <td>2</td>\n",
       "      <td>0</td>\n",
       "      <td>0</td>\n",
       "      <td>...</td>\n",
       "      <td>3272</td>\n",
       "      <td>3455</td>\n",
       "      <td>3261</td>\n",
       "      <td>0</td>\n",
       "      <td>1000</td>\n",
       "      <td>1000</td>\n",
       "      <td>1000</td>\n",
       "      <td>0</td>\n",
       "      <td>2000</td>\n",
       "      <td>1</td>\n",
       "    </tr>\n",
       "    <tr>\n",
       "      <th>2</th>\n",
       "      <td>3</td>\n",
       "      <td>90000</td>\n",
       "      <td>2</td>\n",
       "      <td>2</td>\n",
       "      <td>2</td>\n",
       "      <td>34</td>\n",
       "      <td>0</td>\n",
       "      <td>0</td>\n",
       "      <td>0</td>\n",
       "      <td>0</td>\n",
       "      <td>...</td>\n",
       "      <td>14331</td>\n",
       "      <td>14948</td>\n",
       "      <td>15549</td>\n",
       "      <td>1518</td>\n",
       "      <td>1500</td>\n",
       "      <td>1000</td>\n",
       "      <td>1000</td>\n",
       "      <td>1000</td>\n",
       "      <td>5000</td>\n",
       "      <td>0</td>\n",
       "    </tr>\n",
       "    <tr>\n",
       "      <th>3</th>\n",
       "      <td>4</td>\n",
       "      <td>50000</td>\n",
       "      <td>2</td>\n",
       "      <td>2</td>\n",
       "      <td>1</td>\n",
       "      <td>37</td>\n",
       "      <td>0</td>\n",
       "      <td>0</td>\n",
       "      <td>0</td>\n",
       "      <td>0</td>\n",
       "      <td>...</td>\n",
       "      <td>28314</td>\n",
       "      <td>28959</td>\n",
       "      <td>29547</td>\n",
       "      <td>2000</td>\n",
       "      <td>2019</td>\n",
       "      <td>1200</td>\n",
       "      <td>1100</td>\n",
       "      <td>1069</td>\n",
       "      <td>1000</td>\n",
       "      <td>0</td>\n",
       "    </tr>\n",
       "    <tr>\n",
       "      <th>4</th>\n",
       "      <td>5</td>\n",
       "      <td>50000</td>\n",
       "      <td>1</td>\n",
       "      <td>2</td>\n",
       "      <td>1</td>\n",
       "      <td>57</td>\n",
       "      <td>-1</td>\n",
       "      <td>0</td>\n",
       "      <td>-1</td>\n",
       "      <td>0</td>\n",
       "      <td>...</td>\n",
       "      <td>20940</td>\n",
       "      <td>19146</td>\n",
       "      <td>19131</td>\n",
       "      <td>2000</td>\n",
       "      <td>36681</td>\n",
       "      <td>10000</td>\n",
       "      <td>9000</td>\n",
       "      <td>689</td>\n",
       "      <td>679</td>\n",
       "      <td>0</td>\n",
       "    </tr>\n",
       "  </tbody>\n",
       "</table>\n",
       "<p>5 rows × 25 columns</p>\n",
       "</div>"
      ],
      "text/plain": [
       "   ID  LIMIT_BAL  SEX  EDUCATION  MARRIAGE  AGE  PAY_1  PAY_2  PAY_3  PAY_4  \\\n",
       "0   1      20000    2          2         1   24      2      2     -1     -1   \n",
       "1   2     120000    2          2         2   26     -1      2      0      0   \n",
       "2   3      90000    2          2         2   34      0      0      0      0   \n",
       "3   4      50000    2          2         1   37      0      0      0      0   \n",
       "4   5      50000    1          2         1   57     -1      0     -1      0   \n",
       "\n",
       "              ...              BILL_AMT4  BILL_AMT5  BILL_AMT6  PAY_AMT1  \\\n",
       "0             ...                      0          0          0         0   \n",
       "1             ...                   3272       3455       3261         0   \n",
       "2             ...                  14331      14948      15549      1518   \n",
       "3             ...                  28314      28959      29547      2000   \n",
       "4             ...                  20940      19146      19131      2000   \n",
       "\n",
       "   PAY_AMT2  PAY_AMT3  PAY_AMT4  PAY_AMT5  PAY_AMT6  \\\n",
       "0       689         0         0         0         0   \n",
       "1      1000      1000      1000         0      2000   \n",
       "2      1500      1000      1000      1000      5000   \n",
       "3      2019      1200      1100      1069      1000   \n",
       "4     36681     10000      9000       689       679   \n",
       "\n",
       "   default payment next month  \n",
       "0                           1  \n",
       "1                           1  \n",
       "2                           0  \n",
       "3                           0  \n",
       "4                           0  \n",
       "\n",
       "[5 rows x 25 columns]"
      ]
     },
     "execution_count": 3,
     "metadata": {},
     "output_type": "execute_result"
    }
   ],
   "source": [
    "df = pd.read_csv(r'Credit Card Defaulters.csv')\n",
    "df.head()"
   ]
  },
  {
   "cell_type": "markdown",
   "metadata": {},
   "source": [
    "### Variable Data Type"
   ]
  },
  {
   "cell_type": "code",
   "execution_count": 4,
   "metadata": {},
   "outputs": [
    {
     "name": "stdout",
     "output_type": "stream",
     "text": [
      "<class 'pandas.core.frame.DataFrame'>\n",
      "RangeIndex: 30000 entries, 0 to 29999\n",
      "Data columns (total 25 columns):\n",
      "ID                            30000 non-null int64\n",
      "LIMIT_BAL                     30000 non-null int64\n",
      "SEX                           30000 non-null int64\n",
      "EDUCATION                     30000 non-null int64\n",
      "MARRIAGE                      30000 non-null int64\n",
      "AGE                           30000 non-null int64\n",
      "PAY_1                         30000 non-null int64\n",
      "PAY_2                         30000 non-null int64\n",
      "PAY_3                         30000 non-null int64\n",
      "PAY_4                         30000 non-null int64\n",
      "PAY_5                         30000 non-null int64\n",
      "PAY_6                         30000 non-null int64\n",
      "BILL_AMT1                     30000 non-null int64\n",
      "BILL_AMT2                     30000 non-null int64\n",
      "BILL_AMT3                     30000 non-null int64\n",
      "BILL_AMT4                     30000 non-null int64\n",
      "BILL_AMT5                     30000 non-null int64\n",
      "BILL_AMT6                     30000 non-null int64\n",
      "PAY_AMT1                      30000 non-null int64\n",
      "PAY_AMT2                      30000 non-null int64\n",
      "PAY_AMT3                      30000 non-null int64\n",
      "PAY_AMT4                      30000 non-null int64\n",
      "PAY_AMT5                      30000 non-null int64\n",
      "PAY_AMT6                      30000 non-null int64\n",
      "default payment next month    30000 non-null int64\n",
      "dtypes: int64(25)\n",
      "memory usage: 5.7 MB\n"
     ]
    }
   ],
   "source": [
    "df.info()"
   ]
  },
  {
   "cell_type": "markdown",
   "metadata": {},
   "source": [
    "**_Checking the type of each variable and if there are any missing values in the dataset. Since all the columns have 30000 entries, we will continue with further stages of pre-processing._**"
   ]
  },
  {
   "cell_type": "code",
   "execution_count": 5,
   "metadata": {},
   "outputs": [
    {
     "data": {
      "text/html": [
       "<div>\n",
       "<style scoped>\n",
       "    .dataframe tbody tr th:only-of-type {\n",
       "        vertical-align: middle;\n",
       "    }\n",
       "\n",
       "    .dataframe tbody tr th {\n",
       "        vertical-align: top;\n",
       "    }\n",
       "\n",
       "    .dataframe thead th {\n",
       "        text-align: right;\n",
       "    }\n",
       "</style>\n",
       "<table border=\"1\" class=\"dataframe\">\n",
       "  <thead>\n",
       "    <tr style=\"text-align: right;\">\n",
       "      <th></th>\n",
       "      <th>ID</th>\n",
       "      <th>LIMIT_BAL</th>\n",
       "      <th>SEX</th>\n",
       "      <th>EDUCATION</th>\n",
       "      <th>MARRIAGE</th>\n",
       "      <th>AGE</th>\n",
       "      <th>PAY_1</th>\n",
       "      <th>PAY_2</th>\n",
       "      <th>PAY_3</th>\n",
       "      <th>PAY_4</th>\n",
       "      <th>...</th>\n",
       "      <th>BILL_AMT4</th>\n",
       "      <th>BILL_AMT5</th>\n",
       "      <th>BILL_AMT6</th>\n",
       "      <th>PAY_AMT1</th>\n",
       "      <th>PAY_AMT2</th>\n",
       "      <th>PAY_AMT3</th>\n",
       "      <th>PAY_AMT4</th>\n",
       "      <th>PAY_AMT5</th>\n",
       "      <th>PAY_AMT6</th>\n",
       "      <th>default payment next month</th>\n",
       "    </tr>\n",
       "  </thead>\n",
       "  <tbody>\n",
       "    <tr>\n",
       "      <th>0</th>\n",
       "      <td>1</td>\n",
       "      <td>20000</td>\n",
       "      <td>Female</td>\n",
       "      <td>Univeristy</td>\n",
       "      <td>Married</td>\n",
       "      <td>24</td>\n",
       "      <td>2</td>\n",
       "      <td>2</td>\n",
       "      <td>-1</td>\n",
       "      <td>-1</td>\n",
       "      <td>...</td>\n",
       "      <td>0</td>\n",
       "      <td>0</td>\n",
       "      <td>0</td>\n",
       "      <td>0</td>\n",
       "      <td>689</td>\n",
       "      <td>0</td>\n",
       "      <td>0</td>\n",
       "      <td>0</td>\n",
       "      <td>0</td>\n",
       "      <td>1</td>\n",
       "    </tr>\n",
       "    <tr>\n",
       "      <th>1</th>\n",
       "      <td>2</td>\n",
       "      <td>120000</td>\n",
       "      <td>Female</td>\n",
       "      <td>Univeristy</td>\n",
       "      <td>Single</td>\n",
       "      <td>26</td>\n",
       "      <td>-1</td>\n",
       "      <td>2</td>\n",
       "      <td>0</td>\n",
       "      <td>0</td>\n",
       "      <td>...</td>\n",
       "      <td>3272</td>\n",
       "      <td>3455</td>\n",
       "      <td>3261</td>\n",
       "      <td>0</td>\n",
       "      <td>1000</td>\n",
       "      <td>1000</td>\n",
       "      <td>1000</td>\n",
       "      <td>0</td>\n",
       "      <td>2000</td>\n",
       "      <td>1</td>\n",
       "    </tr>\n",
       "    <tr>\n",
       "      <th>2</th>\n",
       "      <td>3</td>\n",
       "      <td>90000</td>\n",
       "      <td>Female</td>\n",
       "      <td>Univeristy</td>\n",
       "      <td>Single</td>\n",
       "      <td>34</td>\n",
       "      <td>0</td>\n",
       "      <td>0</td>\n",
       "      <td>0</td>\n",
       "      <td>0</td>\n",
       "      <td>...</td>\n",
       "      <td>14331</td>\n",
       "      <td>14948</td>\n",
       "      <td>15549</td>\n",
       "      <td>1518</td>\n",
       "      <td>1500</td>\n",
       "      <td>1000</td>\n",
       "      <td>1000</td>\n",
       "      <td>1000</td>\n",
       "      <td>5000</td>\n",
       "      <td>0</td>\n",
       "    </tr>\n",
       "    <tr>\n",
       "      <th>3</th>\n",
       "      <td>4</td>\n",
       "      <td>50000</td>\n",
       "      <td>Female</td>\n",
       "      <td>Univeristy</td>\n",
       "      <td>Married</td>\n",
       "      <td>37</td>\n",
       "      <td>0</td>\n",
       "      <td>0</td>\n",
       "      <td>0</td>\n",
       "      <td>0</td>\n",
       "      <td>...</td>\n",
       "      <td>28314</td>\n",
       "      <td>28959</td>\n",
       "      <td>29547</td>\n",
       "      <td>2000</td>\n",
       "      <td>2019</td>\n",
       "      <td>1200</td>\n",
       "      <td>1100</td>\n",
       "      <td>1069</td>\n",
       "      <td>1000</td>\n",
       "      <td>0</td>\n",
       "    </tr>\n",
       "    <tr>\n",
       "      <th>4</th>\n",
       "      <td>5</td>\n",
       "      <td>50000</td>\n",
       "      <td>Male</td>\n",
       "      <td>Univeristy</td>\n",
       "      <td>Married</td>\n",
       "      <td>57</td>\n",
       "      <td>-1</td>\n",
       "      <td>0</td>\n",
       "      <td>-1</td>\n",
       "      <td>0</td>\n",
       "      <td>...</td>\n",
       "      <td>20940</td>\n",
       "      <td>19146</td>\n",
       "      <td>19131</td>\n",
       "      <td>2000</td>\n",
       "      <td>36681</td>\n",
       "      <td>10000</td>\n",
       "      <td>9000</td>\n",
       "      <td>689</td>\n",
       "      <td>679</td>\n",
       "      <td>0</td>\n",
       "    </tr>\n",
       "  </tbody>\n",
       "</table>\n",
       "<p>5 rows × 25 columns</p>\n",
       "</div>"
      ],
      "text/plain": [
       "   ID  LIMIT_BAL     SEX   EDUCATION MARRIAGE  AGE  PAY_1  PAY_2  PAY_3  \\\n",
       "0   1      20000  Female  Univeristy  Married   24      2      2     -1   \n",
       "1   2     120000  Female  Univeristy   Single   26     -1      2      0   \n",
       "2   3      90000  Female  Univeristy   Single   34      0      0      0   \n",
       "3   4      50000  Female  Univeristy  Married   37      0      0      0   \n",
       "4   5      50000    Male  Univeristy  Married   57     -1      0     -1   \n",
       "\n",
       "   PAY_4             ...              BILL_AMT4  BILL_AMT5  BILL_AMT6  \\\n",
       "0     -1             ...                      0          0          0   \n",
       "1      0             ...                   3272       3455       3261   \n",
       "2      0             ...                  14331      14948      15549   \n",
       "3      0             ...                  28314      28959      29547   \n",
       "4      0             ...                  20940      19146      19131   \n",
       "\n",
       "   PAY_AMT1  PAY_AMT2  PAY_AMT3  PAY_AMT4  PAY_AMT5  PAY_AMT6  \\\n",
       "0         0       689         0         0         0         0   \n",
       "1         0      1000      1000      1000         0      2000   \n",
       "2      1518      1500      1000      1000      1000      5000   \n",
       "3      2000      2019      1200      1100      1069      1000   \n",
       "4      2000     36681     10000      9000       689       679   \n",
       "\n",
       "   default payment next month  \n",
       "0                           1  \n",
       "1                           1  \n",
       "2                           0  \n",
       "3                           0  \n",
       "4                           0  \n",
       "\n",
       "[5 rows x 25 columns]"
      ]
     },
     "execution_count": 5,
     "metadata": {},
     "output_type": "execute_result"
    }
   ],
   "source": [
    "df['SEX'].replace({1: 'Male', 2 : 'Female'}, inplace=True)\n",
    "df['MARRIAGE'].replace({1: 'Married', 2 : 'Single', 3 : 'Others'}, inplace=True)\n",
    "df['EDUCATION'].replace({1: 'Gradudate School', 2 : 'Univeristy', 3 : 'High School', 4 : 'Others'}, inplace=True)\n",
    "df.head()"
   ]
  },
  {
   "cell_type": "markdown",
   "metadata": {},
   "source": [
    "**As a part of pre-processing replacing number with characters so that graphs look more visually appealing and user readable.**"
   ]
  },
  {
   "cell_type": "markdown",
   "metadata": {},
   "source": [
    "### Correlation Matrix"
   ]
  },
  {
   "cell_type": "code",
   "execution_count": 6,
   "metadata": {},
   "outputs": [
    {
     "data": {
      "image/png": "[encoded data removed]",
      "text/plain": [
       "<Figure size 1440x576 with 2 Axes>"
      ]
     },
     "metadata": {},
     "output_type": "display_data"
    }
   ],
   "source": [
    "corrmat=df[[\"BILL_AMT1\", \"BILL_AMT2\", \"BILL_AMT3\", \"BILL_AMT4\", \"BILL_AMT5\", \"BILL_AMT6\", \"PAY_AMT1\", \"PAY_AMT2\", \"PAY_AMT3\", \"PAY_AMT4\", \"PAY_AMT5\", \"PAY_AMT6\",\"LIMIT_BAL\" ]].corr()\n",
    "fig, plot2=plt.subplots(figsize=(20,8))\n",
    "sns.heatmap(corrmat, vmax=.75, square=True, annot=True)\n",
    "plt.show()"
   ]
  },
  {
   "cell_type": "markdown",
   "metadata": {},
   "source": [
    "*I have created a correlation matrix between limit balances, bill amounts and payments amounts. We can infer that there is a low correlation between the limit balances and payments and bill amounts. But it can be seen that bill amounts has high correlation between each other as expected since the bills are reflecting the cumulative amounts.*"
   ]
  },
  {
   "cell_type": "markdown",
   "metadata": {},
   "source": [
    "### Box Plot"
   ]
  },
  {
   "cell_type": "code",
   "execution_count": 7,
   "metadata": {},
   "outputs": [
    {
     "data": {
      "image/png": "[encoded data removed]",
      "text/plain": [
       "<Figure size 720x576 with 1 Axes>"
      ]
     },
     "metadata": {},
     "output_type": "display_data"
    }
   ],
   "source": [
    "plt.figure(figsize=(10,8))\n",
    "age=df[(df['AGE']>=21) & (df['AGE']<=80) ]\n",
    "sns.boxplot( y=age['AGE'],data=age)\n",
    "plt.title(\"Age boxplot\", fontsize=16)\n",
    "plt.ylabel(\"Age\", fontsize=16)\n",
    "plt.grid()\n",
    "plt.show();"
   ]
  },
  {
   "cell_type": "markdown",
   "metadata": {},
   "source": [
    "**Age Boxplot**\n",
    "\n",
    "*The median age is 34 years old and most customers are between 28 and 41 years old*"
   ]
  },
  {
   "cell_type": "markdown",
   "metadata": {},
   "source": [
    "### Bar Plot"
   ]
  },
  {
   "cell_type": "code",
   "execution_count": 8,
   "metadata": {},
   "outputs": [
    {
     "data": {
      "image/png": "[encoded data removed]",
      "text/plain": [
       "<Figure size 864x576 with 1 Axes>"
      ]
     },
     "metadata": {},
     "output_type": "display_data"
    }
   ],
   "source": [
    "plt.figure(figsize=(12,8))\n",
    "sex = df['SEX'].value_counts()\n",
    "sns.barplot(y=sex.index, x=sex.values, alpha=0.6)\n",
    "plt.yticks(range(len(df['SEX'].value_counts().index)), ['Male', 'Female'])\n",
    "plt.title(\"Gender Distribution of customers\", fontsize=16)\n",
    "plt.xlabel(\"Number of customers\", fontsize=16)\n",
    "plt.ylabel(\"Gender\", fontsize=16)\n",
    "plt.show();"
   ]
  },
  {
   "cell_type": "markdown",
   "metadata": {},
   "source": [
    "*The above barplot shows the number of male and female customers in the dataset. Male customers are dominating population in the dataset so we can infer that there could be a possibility of males customers using the credit card more than female customers.*"
   ]
  },
  {
   "cell_type": "markdown",
   "metadata": {},
   "source": [
    "## Factor Plot"
   ]
  },
  {
   "cell_type": "code",
   "execution_count": 9,
   "metadata": {},
   "outputs": [
    {
     "data": {
      "text/plain": [
       "Text(31.362,0.5,'Limit balance')"
      ]
     },
     "execution_count": 9,
     "metadata": {},
     "output_type": "execute_result"
    },
    {
     "data": {
      "text/plain": [
       "<Figure size 1440x576 with 0 Axes>"
      ]
     },
     "metadata": {},
     "output_type": "display_data"
    },
    {
     "data": {
      "image/png": "[encoded data removed]",
      "text/plain": [
       "<Figure size 648.625x576 with 1 Axes>"
      ]
     },
     "metadata": {},
     "output_type": "display_data"
    }
   ],
   "source": [
    "plt.figure(figsize=(20,8))\n",
    "sns.factorplot(x=\"MARRIAGE\", y=\"LIMIT_BAL\", hue=\"SEX\", data=df, kind=\"box\", size=8)\n",
    "plt.title(\"Relation Between Marital Status & Balance Limits By Gender\", fontsize=16)\n",
    "plt.xlabel(\"Marriage\", fontsize=16)\n",
    "plt.ylabel(\"Limit balance\", fontsize=16)"
   ]
  },
  {
   "cell_type": "markdown",
   "metadata": {},
   "source": [
    "*From the above plot we can see that there is no change at female side in balance limits depending on their marital status but it changes a lot for the male side maybe because of the expenditures after marriage which is the reason on increased balance limits.*"
   ]
  },
  {
   "cell_type": "markdown",
   "metadata": {},
   "source": [
    "### Bar Plot"
   ]
  },
  {
   "cell_type": "code",
   "execution_count": 10,
   "metadata": {},
   "outputs": [
    {
     "data": {
      "image/png": "[encoded data removed]",
      "text/plain": [
       "<Figure size 864x576 with 1 Axes>"
      ]
     },
     "metadata": {},
     "output_type": "display_data"
    }
   ],
   "source": [
    "plt.figure(figsize=(12,8))\n",
    "edu = df['EDUCATION'].value_counts()\n",
    "sns.barplot(y=edu.index, x=edu.values, alpha=0.6)\n",
    "plt.yticks(range(len(df['EDUCATION'].value_counts().index)), ['Gradudate School', 'Univeristy', 'High School', 'Others'])\n",
    "plt.title(\"Education Distribution of the customers\", fontsize=16)\n",
    "plt.xlabel(\"Number of customers\", fontsize=16)\n",
    "plt.ylabel(\"Education Level\", fontsize=16)\n",
    "plt.show();"
   ]
  },
  {
   "cell_type": "markdown",
   "metadata": {},
   "source": [
    "*The above barplot shows the number of customers and their education level in the data set. Maximum number of Graduate school students are using the  credit card followed by university going students, high school students and others.*"
   ]
  },
  {
   "cell_type": "code",
   "execution_count": 11,
   "metadata": {},
   "outputs": [
    {
     "data": {
      "text/plain": [
       "<matplotlib.axes._subplots.AxesSubplot at 0x1d15d86aba8>"
      ]
     },
     "execution_count": 11,
     "metadata": {},
     "output_type": "execute_result"
    },
    {
     "data": {
      "image/png": "[encoded data removed]",
      "text/plain": [
       "<Figure size 864x576 with 1 Axes>"
      ]
     },
     "metadata": {},
     "output_type": "display_data"
    }
   ],
   "source": [
    "plt.figure(figsize=(12,8))\n",
    "df[\"default payment next month\"].replace({\"\"})\n",
    "sns.barplot(x='EDUCATION',y='AGE', hue='default payment next month', data=df, saturation=1 )"
   ]
  },
  {
   "cell_type": "markdown",
   "metadata": {},
   "source": [
    "*The above graph is a comparison between age and education and shows customers who have a default payment next month. Most of the defaulters are others who could probably be school drop outs and hence don't have funds in the form of scholarship to meet their payments and end up being defaulters.\n",
    "Whereas all the other students could be among the people with scholarship or funds from their parents and have an equal possibility of not being defaulters.*"
   ]
  },
  {
   "cell_type": "markdown",
   "metadata": {},
   "source": [
    "### Pie chart and Count plot"
   ]
  },
  {
   "cell_type": "code",
   "execution_count": 12,
   "metadata": {},
   "outputs": [
    {
     "data": {
      "image/png": "[encoded data removed]",
      "text/plain": [
       "<Figure size 1296x576 with 2 Axes>"
      ]
     },
     "metadata": {},
     "output_type": "display_data"
    }
   ],
   "source": [
    "f,ax=plt.subplots(1,2,figsize=(18,8))\n",
    "colors=[\"#00FA9A\", \"#F08080\"]\n",
    "labels = 'No', 'Yes'\n",
    "df['default payment next month'].value_counts().plot.pie(explode=[0,0.1],autopct='%1.1f%%',ax=ax[0],shadow=True, colors=colors, labels=labels,fontsize=14)\n",
    "ax[0].set_title('Default Payment Next Month', fontsize=20)\n",
    "ax[0].set_ylabel('% of Defaulters', fontsize=16)\n",
    "sns.countplot('default payment next month',data=df,ax=ax[1], palette=colors)\n",
    "ax[1].set_title('Default Payment Next Month', fontsize=20)\n",
    "ax[1].set_xticklabels(['No', 'Yes'], fontsize=16)\n",
    "plt.show()"
   ]
  },
  {
   "cell_type": "markdown",
   "metadata": {},
   "source": [
    "*The Pie chart gives the percentage of defaulters and the Count plot gives the number of defaulters.\n",
    "We can infer that 22.1% which is 6, 630 customer out of a total of 30,000 will be defaulters next month. Whereas 77.9% which is 23,370 will make the monthly payment.*"
   ]
  },
  {
   "cell_type": "markdown",
   "metadata": {},
   "source": [
    "# <font color=\"#07D01E\"> III. Method </font>\n"
   ]
  },
  {
   "cell_type": "markdown",
   "metadata": {},
   "source": [
    "### A. Super Class Definition\n",
    "* *Normalize Method: This method is used to perform feature scaling on the data by subtracting each instance by a mean value and then dividing it by the standard deviation*"
   ]
  },
  {
   "cell_type": "code",
   "execution_count": 13,
   "metadata": {},
   "outputs": [],
   "source": [
    "import numpy as np\n",
    "import abc\n",
    "\n",
    "# Super class for machine learning models \n",
    "\n",
    "class BaseModel(abc.ABC):\n",
    "    \"\"\" Super class for ITCS Machine Learning Class\"\"\"\n",
    "    \n",
    "    @abc.abstractmethod\n",
    "    def train(self, X, T):\n",
    "        pass\n",
    "\n",
    "    @abc.abstractmethod\n",
    "    def use(self, X):\n",
    "        pass\n",
    "\n",
    "    \n",
    "\n",
    "class Classifier(BaseModel):\n",
    "    \"\"\"\n",
    "        Abstract class for classification \n",
    "        \n",
    "        Attributes\n",
    "        ==========\n",
    "        meanX       ndarray\n",
    "                    mean of inputs (from standardization)\n",
    "        stdX        ndarray\n",
    "                    standard deviation of inputs (standardization)\n",
    "    \"\"\"\n",
    "\n",
    "    def __init__(self, ):\n",
    "        self.meanX = None\n",
    "        self.stdX = None\n",
    "\n",
    "    def normalize(self, X):\n",
    "        \"\"\" standardize the input X \"\"\"\n",
    "        \n",
    "        if not isinstance(X, np.ndarray):\n",
    "            X = np.asanyarray(X)\n",
    "\n",
    "        self.meanX = np.mean(X, 0)\n",
    "        self.stdX = np.std(X, 0)\n",
    "        \n",
    "        Xs = (X - self.meanX) / self.stdX\n",
    "        return Xs\n",
    "\n",
    "    def _check_matrix(self, mat, name):\n",
    "        if len(mat.shape) != 2:\n",
    "            raise ValueError(''.join([\"Wrong matrix \", name]))\n",
    "        \n",
    "    # add a basis\n",
    "    def add_ones(self, X):\n",
    "        \"\"\"\n",
    "            add a column basis to X input matrix\n",
    "        \"\"\"\n",
    "        self._check_matrix(X, 'X')\n",
    "        return np.hstack((np.ones((X.shape[0], 1)), X))\n",
    "\n",
    "    ####################################################\n",
    "    #### abstract funcitons ############################\n",
    "    @abc.abstractmethod\n",
    "    def train(self, X, T):\n",
    "        pass\n",
    "    \n",
    "    @abc.abstractmethod\n",
    "    def use(self, X):\n",
    "        pass "
   ]
  },
  {
   "cell_type": "markdown",
   "metadata": {},
   "source": [
    "### B. Pocket Algorithm\n",
    "\n",
    "A single perceptron is a linear model that applies a step function on the linear output. \n",
    "For classification, it iterate over the training examples, and update the weights in a way that would result in correct classification. \n",
    "\n",
    "Let us consider the case of misclassification. \n",
    "For positive class example, $\\xv_i$, \n",
    "\n",
    "$$\n",
    "y_i = \\wv^{(k)} \\xv_i < 0.\n",
    "$$\n",
    "\n",
    "To fix this classification error, we want to update the weight $\\wv^{(k)}$ to increase the output $y_i$.\n",
    "Thus, we expect\n",
    "\n",
    "$$\n",
    " \\wv^{(k+1)} \\xv_i >  \\wv^{(k)} \\xv_i.\n",
    "$$\n",
    "\n",
    "This can be reached by using $\\xv_i$ as a gradient as follows: \n",
    "\n",
    "$$\n",
    "\\wv^{(k+1)} = \\wv^{(k)} + \\alpha \\xv_i\n",
    "$$\n",
    "\n",
    "where $\\alpha$ is the learning rate. \n",
    "\n",
    "When the sample $t_i$ is negative, we need to do the opposite\n",
    "\n",
    "$$\n",
    " \\wv^{(k+1)} \\xv_i <  \\wv^{(k)} \\xv_i.\n",
    "$$\n",
    "\n",
    "To combine both positive and negative cases, we can use the target sample $t_i$ in our update, \n",
    "\n",
    "$$\n",
    "\\wv^{(k+1)} = \\wv^{(k)} + \\alpha t_i \\xv_i\n",
    "$$\n",
    "\n",
    "\n",
    "When the data is not linearly separable, there is no guarantee on convergence. Thus, for training, we need to set the maximum number of iteration. Also, the algorithm selects an arbitrary hyperplane that divides two classes, so it is possible to discover a decision boundary that is not the best. Thus, to overcome the unstability of the perceptron algorithm, we use **pocket algorithm**.\n",
    "The Pocket Algorithm is an extension of the Perceptron Algorithm. This algorithm is used for training the Perceptron.\n",
    "The Perceptron algorithm is used for supervised learning of binary classifiers that can decide whether an input, represented by a vector of numbers, belongs to some specific class or not. It is a type of linear classifier. The algorithm allows for online learning, in that it processes elements in the training set one at a time. Once, the weight is updated, on each iteration the weight is compared to check if it is better than the previous weight. If so the algorithm stores the best weight in its pocket.Hence, $\\wv_{pocket}$ will contain the best solution so far.  "
   ]
  },
  {
   "cell_type": "markdown",
   "metadata": {},
   "source": [
    "#### Implementation\n",
    "The Pocket algorithm is implemented by Pocket class defined below:\n",
    "* the class contains two attributes: the learning rate alpha to decide on how much step must the weight increase/decrease on each iteration and the w_pocket to store the best value of the weight\n",
    "* train method:  Once the data is explored and partitioned to training set and a test set and apply transformation pipelines such as feature scaling to clean up and prepare the data for Machine Learning algorithms, we then select and train a Machine Learning model in the train method. The train method is where we compute the weights. We first check if the prediction on each of the training example computed using the previous value of weight is equal to the target train sample (we check the signs). If the signs are different we update the weight accordingly and call the compare method. The result of the compare method says which of the weights are better and stores the best weight in the pocket.\n",
    "* use method: After tweaking the models for a while, we eventually have a system that performs sufficiently well. The model makes a prediction by computing a weighted sum of the input features. We now evaluate the final model on the test set with the pocket weights."
   ]
  },
  {
   "cell_type": "code",
   "execution_count": 14,
   "metadata": {},
   "outputs": [],
   "source": [
    "class PocketAlgorithm(Classifier):\n",
    "    \n",
    "     # return 1 if w is better -1 if wp is better\n",
    "    def compare(self, X, T, w, wp):\n",
    "        y = np.sign(X @ w)\n",
    "        yp = np.sign(X @ wp)\n",
    "        return 1 if np.sum(y == T) >= np.sum(yp == T) else -1\n",
    "    \n",
    "    # training Pocket Algorithm \n",
    "    def train(self, X, T):\n",
    "        X = self.normalize(X)\n",
    "        X = self.add_ones(X)\n",
    "        \n",
    "        m = np.shape(X)[0]        \n",
    "        maxiter = 100\n",
    "        alpha = 0.1\n",
    "        \n",
    "        self.w = np.zeros(np.shape(X)[1])\n",
    "        w_pocket = copy.copy(self.w)\n",
    "        \n",
    "        for i in range(maxiter):\n",
    "            converged = True\n",
    "            for k in np.random.permutation(m):\n",
    "                y = self.w @ X[k]\n",
    "                if np.sign(y) != np.sign(T[k]):\n",
    "                    converged = False\n",
    "                    self.w += alpha * T[k] * X[k]\n",
    "                    \n",
    "                    if self.compare(X, T, self.w, w_pocket) > 0: \n",
    "                        w_pocket[:] = self.w[:]\n",
    "            if converged:\n",
    "                break\n",
    "        self.w = w_pocket\n",
    "     # apply the learned model to data X   \n",
    "    def use(self, X):\n",
    "        X = (X - self.meanX) / self.stdX\n",
    "        X = self.add_ones(X)\n",
    "        return np.sign(X @ self.w)"
   ]
  },
  {
   "cell_type": "markdown",
   "metadata": {},
   "source": [
    "### C. QDA\n",
    "\n",
    "$\\newcommand{\\xv}{\\mathbf{x}}\n",
    " \\newcommand{\\wv}{\\mathbf{w}}\n",
    " \\newcommand{\\Chi}{\\mathcal{X}}\n",
    " \\newcommand{\\R}{\\rm I\\!R}\n",
    " \\newcommand{\\sign}{\\text{sign}}\n",
    " \\newcommand{\\Tm}{\\mathbf{T}}\n",
    " \\newcommand{\\Xm}{\\mathbf{X}}\n",
    "$\n",
    "\n",
    "\n",
    "For a binary classification problem, $k \\in \\{-1, +1\\}$, we have a higher posterior probability $P(T = +1 \\mid \\xv)$ for the sample $\\xv$ with the positive label. Thus, \n",
    "\n",
    "$$\n",
    "P(T = +1 \\mid \\xv) > P(T = -1 \\mid \\xv).\n",
    "$$\n",
    "\n",
    "The inequality will be the opposite in case of the negative samples. \n",
    "\n",
    "Using this inequality and the Gaussian Assumption, we can come up with following inequality: \n",
    "\n",
    "$$\n",
    "-\\frac{1}{2} \\ln \\vert \\boldsymbol\\Sigma_+ \\vert - \\frac{1}{2} (\\xv - \\boldsymbol\\mu_+)^\\top \\boldsymbol\\Sigma_+^{-1} (\\xv - \\boldsymbol\\mu_+) + \\ln P(T = +1) > -\\frac{1}{2} \\ln \\vert \\boldsymbol\\Sigma_- \\vert - \\frac{1}{2} (\\xv - \\boldsymbol\\mu_-)^\\top \\boldsymbol\\Sigma_-^{-1} (\\xv - \\boldsymbol\\mu_-) + \\ln P(T = -1)\n",
    "$$\n",
    "\n",
    "*Gaussian Assumption:*\n",
    "$$\n",
    "p(\\xv \\mid T = k) = \\frac{1}{(2\\pi)^{\\frac{d}{2}} \\vert \\boldsymbol\\Sigma_k \\vert^{\\frac{1}{2}}} e^{ -\\frac{1}{2} (\\xv - \\boldsymbol\\mu_k)^\\top \\boldsymbol\\Sigma_k^{-1} (\\xv - \\boldsymbol\\mu_k) }.\n",
    "$$\n",
    "\n",
    "\n",
    "Since both terms have the same cosmetics, we can define the discriminant function $\\delta_k(\\xv)$ as\n",
    "\n",
    "$$\n",
    "\\delta_k(\\xv) = -\\frac{1}{2} \\ln \\vert \\boldsymbol\\Sigma_k \\vert - \\frac{1}{2} (\\xv - \\boldsymbol\\mu_k)^\\top \\boldsymbol\\Sigma_k^{-1} (\\xv - \\boldsymbol\\mu_k) + \\ln P(T = k). \n",
    "$$\n",
    "\n",
    "In QDA analysis, our job is to find the class which gives maximum probability for the above discriminant function.\n",
    "\n",
    "$$\n",
    "y = \\arg\\max_k \\delta_k(\\tilde{\\xv}). \n",
    "$$"
   ]
  },
  {
   "cell_type": "markdown",
   "metadata": {},
   "source": [
    "#### Implementation\n",
    "The QDA algorithm is implemented by QDA class defined below. \n",
    "* \"train\" method of the class initializes variables \"prior\" (Probability of the classes), \"sigma\" (covariance), \"mu\" (mean of the class). It also performs normalization of the input X values\n",
    "* \"use\" method calculates discriminant for each class and returns the class with highest value of discriminant in the output. The input to this function is also normalized before processing"
   ]
  },
  {
   "cell_type": "code",
   "execution_count": 15,
   "metadata": {},
   "outputs": [],
   "source": [
    "class QDA(Classifier):\n",
    "    def train(self, X, T): \n",
    "        # Initialize\n",
    "        self.classes = np.unique(T)\n",
    "        self.prior = []\n",
    "        self.sigma = []\n",
    "        self.mu = []\n",
    "        \n",
    "        # Normalize Input\n",
    "        X = self.normalize(X) \n",
    "        N = np.shape(X)[0]\n",
    "        \n",
    "        # Calculate prior probability, sigma & mu\n",
    "        for i, k in enumerate(self.classes):\n",
    "            indices = np.where(T == k)[0]\n",
    "            self.prior.append(len(indices) / N)\n",
    "            self.sigma.append(np.cov(X[indices].T))\n",
    "            self.mu.append(np.mean(X[indices], 0))\n",
    "            \n",
    "    def use(self, X):\n",
    "        X = (X - self.meanX) / self.stdX\n",
    "        d = []\n",
    "        \n",
    "        # Calculate discriminant\n",
    "        for i, k in enumerate(self.classes):\n",
    "            sigma_inv = np.linalg.inv(self.sigma[i])\n",
    "            diffv = X - self.mu[i]\n",
    "            d.append(-0.5 * np.log(np.linalg.det(self.sigma[i])) \\\n",
    "                - 0.5 * np.sum(diffv @ sigma_inv * diffv, axis=1) \\\n",
    "                + np.log(self.prior[i]))\n",
    "        # Read index of largest discriminant\n",
    "        T = np.argmax(d, 0)\n",
    "        return [self.classes[t] for t in T]"
   ]
  },
  {
   "cell_type": "markdown",
   "metadata": {},
   "source": [
    "### D. LDA"
   ]
  },
  {
   "cell_type": "markdown",
   "metadata": {},
   "source": [
    "The problems with QDA are:\n",
    "* Maintaining the covariance matrix for each class is not cheap\n",
    "* The data is under-sampled, the resulting class boundary has high chance of over-fitting\n",
    "\n",
    "LDA instead use same covariance for all classes\n",
    "Let $\\boldsymbol\\Sigma_k = \\boldsymbol\\Sigma$. \n",
    "\n",
    "$$\n",
    "\\begin{align*}\n",
    "\\delta_+(\\xv) &> \\delta_-(\\xv) \\\\ \n",
    " \\xv^\\top \\boldsymbol\\Sigma^{-1} \\boldsymbol\\mu_+ -\\frac{1}{2} \\boldsymbol\\mu_+^\\top \\boldsymbol\\Sigma^{-1}\\boldsymbol\\mu_+ + \\ln P(T = +1) &>  \\xv^\\top \\boldsymbol\\Sigma^{-1} \\boldsymbol\\mu_- - \\frac{1}{2}\\boldsymbol\\mu_-^\\top \\boldsymbol\\Sigma^{-1}\\boldsymbol\\mu_-  + \\ln P(T = -1)\n",
    "\\end{align*}\n",
    "$$\n",
    "\n",
    "From the above equation (same as QDA), we can remove the quadratic term in our discriminant function and we will end up with: \n",
    "\n",
    "$$\n",
    "\\delta_k(\\xv) = \\xv^\\top \\boldsymbol\\Sigma^{-1} \\boldsymbol\\mu_k -\\frac{1}{2} \\boldsymbol\\mu_k^\\top \\boldsymbol\\Sigma^{-1}\\boldsymbol\\mu_k + \\ln P(T = k).\n",
    "$$\n",
    "\n",
    "In many cases, for simple computation, the covariance matrix $\\boldsymbol\\Sigma$ is chosen as an average of all the covariance matrices for all classes,\n",
    "\n",
    "$$\n",
    "\\boldsymbol\\Sigma = \\sum_k^K \\frac{N_k}{N} \\boldsymbol\\Sigma_k.\n",
    "$$"
   ]
  },
  {
   "cell_type": "markdown",
   "metadata": {},
   "source": [
    "#### Implementation\n",
    "The LDA algorithm is implemented by LDA class defined below. \n",
    "* \"train\" method of the class initializes variables \"prior\" (Probability of the classes), \"sigma\" (covariance), \"mu\" (mean of the class). It also performs normalization of the input X values\n",
    "* \"use\" method calculates discriminant for each class and returns the class with highest value of discriminant in the output. The input to this function is also normalized before processing"
   ]
  },
  {
   "cell_type": "code",
   "execution_count": 16,
   "metadata": {},
   "outputs": [],
   "source": [
    "class LDA(Classifier):\n",
    "    def train(self, X, T):        \n",
    "        self.classes = np.unique(T)\n",
    "        self.prior = {}\n",
    "        self.mu = {}\n",
    "        \n",
    "        X = self.normalize(X) \n",
    "        N = np.shape(X)[0]\n",
    "        \n",
    "        self.sigma = np.cov(X.T)\n",
    "        \n",
    "        for k in self.classes:\n",
    "            indices = np.where(T == k)[0]\n",
    "            self.prior[k] = len(indices) / N\n",
    "            self.mu[k] = np.mean(X[indices], 0)\n",
    "            \n",
    "    def use(self, X):\n",
    "        X = (X - self.meanX) / self.stdX\n",
    "        N = np.shape(X)[0]\n",
    "        T = []\n",
    "        d = {}\n",
    "        sigma_inv = np.linalg.inv(self.sigma)\n",
    "        \n",
    "        for k in self.classes:\n",
    "            d[k] = np.sum(np.dot(X, sigma_inv) * self.mu[k] \\\n",
    "                - 0.5 * np.dot(self.mu[k], sigma_inv) * self.mu[k] \\\n",
    "                + np.log(self.prior[k]), axis=1)\n",
    "        \n",
    "        for n in range(N):\n",
    "            max_d = -math.inf\n",
    "            max_k = None\n",
    "            for k in self.classes:\n",
    "                if d[k][n] > max_d:\n",
    "                    max_k = k\n",
    "                    max_d = d[k][n]\n",
    "                T.append(k)\n",
    "        return T"
   ]
  },
  {
   "cell_type": "markdown",
   "metadata": {},
   "source": [
    "### E. Logistic Regression\n",
    "\n",
    "Logistic regression model predicts $P(T=k \\mid \\xv)$ for every class k. Reconsidering the Linear Regression model:\n",
    "$$\n",
    "\\kappa = f(\\xv ; \\wv) = \\Xm \\wv.\n",
    "$$\n",
    "\n",
    "Thus, for Logistic Regression we have:\n",
    "\n",
    "$$\n",
    "P(T=k \\mid \\xv) = h(\\Xm \\wv) = h(\\kappa) = y.\n",
    "$$\n",
    "\n",
    "The error function for Logistic Regression is defined as:\n",
    "$$\n",
    "E(\\wv) = - \\ln P(\\Tm \\mid \\wv) =  - \\sum_{n=1}^{N} \\sum_{k=1}^{K} t_{n,k} \\ln y_{n,k}.\n",
    "$$\n",
    "It is also called *cross-entropy* error function.\n",
    "\n",
    "Applying Gradient Descent on this error function:\n",
    "$$\n",
    "\\wv_j \\leftarrow \\wv_j + \\alpha \\Xm^\\top \\Big(  t_{*,j} - g_j(\\Xm)\\Big).\n",
    "$$\n"
   ]
  },
  {
   "cell_type": "markdown",
   "metadata": {},
   "source": [
    "#### Implementation\n",
    "The Logistic Regression algorithm is implemented by the class define below. The purpose of each method is as follows:\n",
    "* \"softmax\" for the Logistic Regression is implemented in the \"softmax\" method. \n",
    "* \"g\" method computes the dot product of input and weight and pass the result to the \"softmax\" function\n",
    "* \"train\" method generates weights with 1000 iterations. Learning rate is taken as 0.1\n",
    "* \"use\" function uses the weights to calculate probability for each class and returns class with highest probability"
   ]
  },
  {
   "cell_type": "code",
   "execution_count": 17,
   "metadata": {},
   "outputs": [],
   "source": [
    "class LogisticRegression(Classifier):\n",
    "    def softmax(self, z):\n",
    "        if not isinstance(z, np.ndarray):\n",
    "            z = np.asarray(z)\n",
    "        f = np.exp(z) \n",
    "        return f / (np.sum(f, axis=1, keepdims=True) if len(z.shape) == 2 else np.sum(f))\n",
    "    \n",
    "    def g(self, X, w):\n",
    "        return self.softmax(X @ w) \n",
    "    \n",
    "    def train(self, X, T):\n",
    "        self.classes = np.unique(T).tolist()\n",
    "        X = self.normalize(X)\n",
    "        X = self.add_ones(X)\n",
    "        \n",
    "        niter = 1\n",
    "        alpha = 0.1\n",
    "        self.w = np.random.rand(np.shape(X)[1], len(self.classes))\n",
    "        Tmatrix = np.zeros((np.shape(X)[0], len(self.classes)))\n",
    "        \n",
    "        for i,t in enumerate(T):\n",
    "            Tmatrix[i][self.classes.index(t)] = 1\n",
    "            \n",
    "        for step in range(niter):\n",
    "            y = self.g(X, self.w)\n",
    "            self.w += alpha * X.T @ (Tmatrix - y)\n",
    "            \n",
    "    def use(self, X):\n",
    "        X = (X - self.meanX) / self.stdX\n",
    "        X = self.add_ones(X)\n",
    "        T = np.argmax(self.g(X, self.w), 1)\n",
    "        return [self.classes[t] for t in T]"
   ]
  },
  {
   "cell_type": "markdown",
   "metadata": {},
   "source": [
    "# <font color=\"#C34F0D\">IV. Experiments </font>"
   ]
  },
  {
   "cell_type": "code",
   "execution_count": 18,
   "metadata": {},
   "outputs": [],
   "source": [
    "#Partitioning the dataset into train and test datasets\n",
    "data = pd.read_csv(r'Credit Card Defaulters.csv')\n",
    "train = data.sample(frac = .75)\n",
    "test = data.sample(frac = .25)"
   ]
  },
  {
   "cell_type": "code",
   "execution_count": 19,
   "metadata": {},
   "outputs": [
    {
     "data": {
      "image/png": "[encoded data removed]",
      "text/plain": [
       "<Figure size 1440x576 with 1 Axes>"
      ]
     },
     "metadata": {},
     "output_type": "display_data"
    }
   ],
   "source": [
    "classifier = PocketAlgorithm()\n",
    "X = train.sample(5000)\n",
    "Y = [-1 if y == 0 else 1 for y in X['default payment next month'].values ]\n",
    "m = np.shape(X)[0]\n",
    "classifier.train(X[['PAY_1', 'PAY_2','PAY_3','PAY_4','PAY_5','PAY_6', 'BILL_AMT1', 'BILL_AMT2', 'BILL_AMT3', 'BILL_AMT4', 'BILL_AMT5', 'BILL_AMT6', 'PAY_AMT1', 'PAY_AMT2', 'PAY_AMT3', 'PAY_AMT4', 'PAY_AMT5', 'PAY_AMT6']].values, Y)\n",
    "T = classifier.use(X[['PAY_1', 'PAY_2','PAY_3','PAY_4','PAY_5','PAY_6', 'BILL_AMT1', 'BILL_AMT2', 'BILL_AMT3', 'BILL_AMT4', 'BILL_AMT5', 'BILL_AMT6', 'PAY_AMT1', 'PAY_AMT2', 'PAY_AMT3', 'PAY_AMT4', 'PAY_AMT5', 'PAY_AMT6']].values)\n",
    "plt.figure(figsize=(20, 8))\n",
    "plt.step(range(m)[0::150], Y[0::150], label='Actual', color='#1ECA4E')\n",
    "plt.step(range(m)[0::150], T[0::150], label='Predicted', color='#DE0D67')\n",
    "plt.legend()\n",
    "plt.show()"
   ]
  },
  {
   "cell_type": "markdown",
   "metadata": {},
   "source": [
    "### Confusion Matrix for Pocket Algorithm (Train Dataset)"
   ]
  },
  {
   "cell_type": "code",
   "execution_count": 20,
   "metadata": {},
   "outputs": [
    {
     "name": "stdout",
     "output_type": "stream",
     "text": [
      "Accuary of the model: 81.0%\n",
      "\n",
      "Precision for decision value 0: 0.9\n",
      "Recall for decision value 0: 0.83\n",
      "\n",
      "Precision for decision value 1: 0.36\n",
      "Recall for decision value 1: 0.65\n"
     ]
    },
    {
     "data": {
      "text/html": [
       "<div>\n",
       "<style scoped>\n",
       "    .dataframe tbody tr th:only-of-type {\n",
       "        vertical-align: middle;\n",
       "    }\n",
       "\n",
       "    .dataframe tbody tr th {\n",
       "        vertical-align: top;\n",
       "    }\n",
       "\n",
       "    .dataframe thead th {\n",
       "        text-align: right;\n",
       "    }\n",
       "</style>\n",
       "<table border=\"1\" class=\"dataframe\">\n",
       "  <thead>\n",
       "    <tr style=\"text-align: right;\">\n",
       "      <th>Predicted</th>\n",
       "      <th>0</th>\n",
       "      <th>1</th>\n",
       "    </tr>\n",
       "    <tr>\n",
       "      <th>Actual</th>\n",
       "      <th></th>\n",
       "      <th></th>\n",
       "    </tr>\n",
       "  </thead>\n",
       "  <tbody>\n",
       "    <tr>\n",
       "      <th>0</th>\n",
       "      <td>3638</td>\n",
       "      <td>223</td>\n",
       "    </tr>\n",
       "    <tr>\n",
       "      <th>1</th>\n",
       "      <td>727</td>\n",
       "      <td>412</td>\n",
       "    </tr>\n",
       "  </tbody>\n",
       "</table>\n",
       "</div>"
      ],
      "text/plain": [
       "Predicted     0    1\n",
       "Actual              \n",
       "0          3638  223\n",
       "1           727  412"
      ]
     },
     "execution_count": 20,
     "metadata": {},
     "output_type": "execute_result"
    }
   ],
   "source": [
    "matrix = pd.crosstab(pd.Series(X['default payment next month'].values, name='Actual'), pd.Series([0 if t == -1 else 1 for t in T], name='Predicted'))\n",
    "print('Accuary of the model: ' + str((matrix[0][0] + matrix[1][1]) * 100 / m) + '%')\n",
    "\n",
    "print()\n",
    "\n",
    "# Precision & recall for class 0(people who have default payment)\n",
    "precision = round(matrix[0][0] / (matrix[0][0] + matrix[1][1]), 2)\n",
    "recall = round(matrix[0][0] / (matrix[0][0] + matrix[0][1]), 2)\n",
    "print('Precision for decision value 0: ' + str(precision))\n",
    "print('Recall for decision value 0: ' + str(recall))\n",
    "\n",
    "print()\n",
    "\n",
    "## Precision & recall for class 1(people who don't have default payment)\n",
    "precision = round(matrix[1][1] / (matrix[1][1] + matrix[0][1]), 2)\n",
    "recall = round(matrix[1][1] / (matrix[1][1] + matrix[1][0]), 2)\n",
    "print('Precision for decision value 1: ' + str(precision))\n",
    "print('Recall for decision value 1: ' + str(recall))\n",
    "\n",
    "matrix"
   ]
  },
  {
   "cell_type": "code",
   "execution_count": 21,
   "metadata": {},
   "outputs": [
    {
     "data": {
      "image/png": "[encoded data removed]",
      "text/plain": [
       "<Figure size 1440x576 with 1 Axes>"
      ]
     },
     "metadata": {},
     "output_type": "display_data"
    }
   ],
   "source": [
    "classifier = PocketAlgorithm()\n",
    "X = train.sample(5000)\n",
    "Y = [-1 if y == 0 else 1 for y in X['default payment next month'].values ]\n",
    "m = np.shape(X)[0]\n",
    "classifier.train(X[['PAY_1', 'PAY_2','PAY_3','PAY_4','PAY_5','PAY_6', 'BILL_AMT1', 'BILL_AMT2', 'BILL_AMT3', 'BILL_AMT4', 'BILL_AMT5', 'BILL_AMT6', 'PAY_AMT1', 'PAY_AMT2', 'PAY_AMT3', 'PAY_AMT4', 'PAY_AMT5', 'PAY_AMT6']].values, Y)\n",
    "T = classifier.use(X[['PAY_1', 'PAY_2','PAY_3','PAY_4','PAY_5','PAY_6', 'BILL_AMT1', 'BILL_AMT2', 'BILL_AMT3', 'BILL_AMT4', 'BILL_AMT5', 'BILL_AMT6', 'PAY_AMT1', 'PAY_AMT2', 'PAY_AMT3', 'PAY_AMT4', 'PAY_AMT5', 'PAY_AMT6']].values)\n",
    "plt.figure(figsize=(20, 8))\n",
    "plt.step(range(m)[0::150], Y[0::150], label='Actual', color='#1ECA4E')\n",
    "plt.step(range(m)[0::150], T[0::150], label='Predicted', color='#DE0D67')\n",
    "plt.legend()\n",
    "plt.show()"
   ]
  },
  {
   "cell_type": "markdown",
   "metadata": {},
   "source": [
    "### Confusion Matrix for Pocket Algorithm (After training the model on train dataset and using it to predict on the test dataset)"
   ]
  },
  {
   "cell_type": "code",
   "execution_count": 22,
   "metadata": {},
   "outputs": [
    {
     "name": "stdout",
     "output_type": "stream",
     "text": [
      "Accuary of the model: 81.98%\n",
      "\n",
      "Precision for decision value 0: 0.89\n",
      "Recall for decision value 0: 0.84\n",
      "\n",
      "Precision for decision value 1: 0.39\n",
      "Recall for decision value 1: 0.67\n"
     ]
    },
    {
     "data": {
      "text/html": [
       "<div>\n",
       "<style scoped>\n",
       "    .dataframe tbody tr th:only-of-type {\n",
       "        vertical-align: middle;\n",
       "    }\n",
       "\n",
       "    .dataframe tbody tr th {\n",
       "        vertical-align: top;\n",
       "    }\n",
       "\n",
       "    .dataframe thead th {\n",
       "        text-align: right;\n",
       "    }\n",
       "</style>\n",
       "<table border=\"1\" class=\"dataframe\">\n",
       "  <thead>\n",
       "    <tr style=\"text-align: right;\">\n",
       "      <th>Predicted</th>\n",
       "      <th>0</th>\n",
       "      <th>1</th>\n",
       "    </tr>\n",
       "    <tr>\n",
       "      <th>Actual</th>\n",
       "      <th></th>\n",
       "      <th></th>\n",
       "    </tr>\n",
       "  </thead>\n",
       "  <tbody>\n",
       "    <tr>\n",
       "      <th>0</th>\n",
       "      <td>3664</td>\n",
       "      <td>213</td>\n",
       "    </tr>\n",
       "    <tr>\n",
       "      <th>1</th>\n",
       "      <td>688</td>\n",
       "      <td>435</td>\n",
       "    </tr>\n",
       "  </tbody>\n",
       "</table>\n",
       "</div>"
      ],
      "text/plain": [
       "Predicted     0    1\n",
       "Actual              \n",
       "0          3664  213\n",
       "1           688  435"
      ]
     },
     "execution_count": 22,
     "metadata": {},
     "output_type": "execute_result"
    }
   ],
   "source": [
    "matrix = pd.crosstab(pd.Series(X['default payment next month'].values, name='Actual'), pd.Series([0 if t == -1 else 1 for t in T], name='Predicted'))\n",
    "print('Accuary of the model: ' + str((matrix[0][0] + matrix[1][1]) * 100 / m) + '%')\n",
    "\n",
    "print()\n",
    "\n",
    "# Precision & recall for class 0(people who have default payment)\n",
    "precision = round(matrix[0][0] / (matrix[0][0] + matrix[1][1]), 2)\n",
    "recall = round(matrix[0][0] / (matrix[0][0] + matrix[0][1]), 2)\n",
    "print('Precision for decision value 0: ' + str(precision))\n",
    "print('Recall for decision value 0: ' + str(recall))\n",
    "\n",
    "print()\n",
    "\n",
    "## Precision & recall for class 1(people who don't have default payment)\n",
    "precision = round(matrix[1][1] / (matrix[1][1] + matrix[0][1]), 2)\n",
    "recall = round(matrix[1][1] / (matrix[1][1] + matrix[1][0]), 2)\n",
    "print('Precision for decision value 1: ' + str(precision))\n",
    "print('Recall for decision value 1: ' + str(recall))\n",
    "\n",
    "matrix"
   ]
  },
  {
   "cell_type": "markdown",
   "metadata": {},
   "source": [
    "**Note:** *For Pocket Algorithm I have taken 5000 samples as it is taking a lot of time to evaluate the results.*"
   ]
  },
  {
   "cell_type": "code",
   "execution_count": 23,
   "metadata": {
    "scrolled": false
   },
   "outputs": [
    {
     "data": {
      "image/png": "[encoded data removed]",
      "text/plain": [
       "<Figure size 1440x576 with 1 Axes>"
      ]
     },
     "metadata": {},
     "output_type": "display_data"
    }
   ],
   "source": [
    "classifier = QDA()\n",
    "X = train\n",
    "Y = [-1 if y == 0 else 1 for y in X['default payment next month'].values ]\n",
    "m = np.shape(X)[0]\n",
    "classifier.train(X[['PAY_1', 'PAY_2','PAY_3','PAY_4','PAY_5','PAY_6', 'BILL_AMT1', 'BILL_AMT2', 'BILL_AMT3', 'BILL_AMT4', 'BILL_AMT5', 'BILL_AMT6', 'PAY_AMT1', 'PAY_AMT2', 'PAY_AMT3', 'PAY_AMT4', 'PAY_AMT5', 'PAY_AMT6']].values, Y)\n",
    "T = classifier.use(X[['PAY_1', 'PAY_2','PAY_3','PAY_4','PAY_5','PAY_6', 'BILL_AMT1', 'BILL_AMT2', 'BILL_AMT3', 'BILL_AMT4', 'BILL_AMT5', 'BILL_AMT6', 'PAY_AMT1', 'PAY_AMT2', 'PAY_AMT3', 'PAY_AMT4', 'PAY_AMT5', 'PAY_AMT6']].values)\n",
    "plt.figure(figsize=(20, 8))\n",
    "plt.step(range(m)[0::150], Y[0::150], label='Actual', color='#1ECA4E')\n",
    "plt.step(range(m)[0::150], T[0::150], label='Predicted', color='#DE0D67')\n",
    "plt.legend()\n",
    "plt.show()"
   ]
  },
  {
   "cell_type": "markdown",
   "metadata": {},
   "source": [
    "### Confusion Matrix for QDA (Train Dataset)"
   ]
  },
  {
   "cell_type": "code",
   "execution_count": 24,
   "metadata": {},
   "outputs": [
    {
     "name": "stdout",
     "output_type": "stream",
     "text": [
      "Accuary of the model: 43.39111111111111%\n",
      "\n",
      "Precision for decision value 0: 0.55\n",
      "Recall for decision value 0: 0.89\n",
      "\n",
      "Precision for decision value 1: 0.87\n",
      "Recall for decision value 1: 0.27\n"
     ]
    },
    {
     "data": {
      "text/html": [
       "<div>\n",
       "<style scoped>\n",
       "    .dataframe tbody tr th:only-of-type {\n",
       "        vertical-align: middle;\n",
       "    }\n",
       "\n",
       "    .dataframe tbody tr th {\n",
       "        vertical-align: top;\n",
       "    }\n",
       "\n",
       "    .dataframe thead th {\n",
       "        text-align: right;\n",
       "    }\n",
       "</style>\n",
       "<table border=\"1\" class=\"dataframe\">\n",
       "  <thead>\n",
       "    <tr style=\"text-align: right;\">\n",
       "      <th>Predicted</th>\n",
       "      <th>0</th>\n",
       "      <th>1</th>\n",
       "    </tr>\n",
       "    <tr>\n",
       "      <th>Actual</th>\n",
       "      <th></th>\n",
       "      <th></th>\n",
       "    </tr>\n",
       "  </thead>\n",
       "  <tbody>\n",
       "    <tr>\n",
       "      <th>0</th>\n",
       "      <td>5404</td>\n",
       "      <td>12078</td>\n",
       "    </tr>\n",
       "    <tr>\n",
       "      <th>1</th>\n",
       "      <td>659</td>\n",
       "      <td>4359</td>\n",
       "    </tr>\n",
       "  </tbody>\n",
       "</table>\n",
       "</div>"
      ],
      "text/plain": [
       "Predicted     0      1\n",
       "Actual                \n",
       "0          5404  12078\n",
       "1           659   4359"
      ]
     },
     "execution_count": 24,
     "metadata": {},
     "output_type": "execute_result"
    }
   ],
   "source": [
    "matrix = pd.crosstab(pd.Series(X['default payment next month'].values, name='Actual'), pd.Series([0 if t == -1 else 1 for t in T], name='Predicted'))\n",
    "print('Accuary of the model: ' + str((matrix[0][0] + matrix[1][1]) * 100 / m) + '%')\n",
    "\n",
    "print()\n",
    "\n",
    "# Precision & recall for class 0(people who have default payment)\n",
    "precision = round(matrix[0][0] / (matrix[0][0] + matrix[1][1]), 2)\n",
    "recall = round(matrix[0][0] / (matrix[0][0] + matrix[0][1]), 2)\n",
    "print('Precision for decision value 0: ' + str(precision))\n",
    "print('Recall for decision value 0: ' + str(recall))\n",
    "\n",
    "print()\n",
    "\n",
    "## Precision & recall for class 1(people who don't have default payment)\n",
    "precision = round(matrix[1][1] / (matrix[1][1] + matrix[0][1]), 2)\n",
    "recall = round(matrix[1][1] / (matrix[1][1] + matrix[1][0]), 2)\n",
    "print('Precision for decision value 1: ' + str(precision))\n",
    "print('Recall for decision value 1: ' + str(recall))\n",
    "\n",
    "matrix"
   ]
  },
  {
   "cell_type": "code",
   "execution_count": 25,
   "metadata": {},
   "outputs": [
    {
     "name": "stdout",
     "output_type": "stream",
     "text": [
      "[-1  1]\n"
     ]
    },
    {
     "data": {
      "image/png": "[encoded data removed]",
      "text/plain": [
       "<Figure size 1440x576 with 1 Axes>"
      ]
     },
     "metadata": {},
     "output_type": "display_data"
    }
   ],
   "source": [
    "classifier = QDA()\n",
    "X = test\n",
    "Y = [-1 if y == 0 else 1 for y in X['default payment next month'].values ]\n",
    "m = np.shape(X)[0]\n",
    "classifier.train(X[['PAY_1', 'PAY_2','PAY_3','PAY_4','PAY_5','PAY_6', 'BILL_AMT1', 'BILL_AMT2', 'BILL_AMT3', 'BILL_AMT4', 'BILL_AMT5', 'BILL_AMT6', 'PAY_AMT1', 'PAY_AMT2', 'PAY_AMT3', 'PAY_AMT4', 'PAY_AMT5', 'PAY_AMT6']].values, Y)\n",
    "T = classifier.use(X[['PAY_1', 'PAY_2','PAY_3','PAY_4','PAY_5','PAY_6', 'BILL_AMT1', 'BILL_AMT2', 'BILL_AMT3', 'BILL_AMT4', 'BILL_AMT5', 'BILL_AMT6', 'PAY_AMT1', 'PAY_AMT2', 'PAY_AMT3', 'PAY_AMT4', 'PAY_AMT5', 'PAY_AMT6']].values)\n",
    "print(np.unique(T))\n",
    "plt.figure(figsize=(20, 8))\n",
    "plt.step(range(m)[0::150], Y[0::150], label='Actual', color='#1ECA4E')\n",
    "plt.step(range(m)[0::150], T[0::150], label='Predicted', color='#DE0D67')\n",
    "plt.legend()\n",
    "plt.show()"
   ]
  },
  {
   "cell_type": "markdown",
   "metadata": {},
   "source": [
    "### Confusion Matrix for QDA  (After training the model on train dataset and using it to predict on the test dataset)"
   ]
  },
  {
   "cell_type": "code",
   "execution_count": 26,
   "metadata": {},
   "outputs": [
    {
     "name": "stdout",
     "output_type": "stream",
     "text": [
      "Accuary of the model: 41.44%\n",
      "\n",
      "Precision for decision value 0: 0.53\n",
      "Recall for decision value 0: 0.89\n",
      "\n",
      "Precision for decision value 1: 0.88\n",
      "Recall for decision value 1: 0.26\n"
     ]
    },
    {
     "data": {
      "text/html": [
       "<div>\n",
       "<style scoped>\n",
       "    .dataframe tbody tr th:only-of-type {\n",
       "        vertical-align: middle;\n",
       "    }\n",
       "\n",
       "    .dataframe tbody tr th {\n",
       "        vertical-align: top;\n",
       "    }\n",
       "\n",
       "    .dataframe thead th {\n",
       "        text-align: right;\n",
       "    }\n",
       "</style>\n",
       "<table border=\"1\" class=\"dataframe\">\n",
       "  <thead>\n",
       "    <tr style=\"text-align: right;\">\n",
       "      <th>Predicted</th>\n",
       "      <th>0</th>\n",
       "      <th>1</th>\n",
       "    </tr>\n",
       "    <tr>\n",
       "      <th>Actual</th>\n",
       "      <th></th>\n",
       "      <th></th>\n",
       "    </tr>\n",
       "  </thead>\n",
       "  <tbody>\n",
       "    <tr>\n",
       "      <th>0</th>\n",
       "      <td>1637</td>\n",
       "      <td>4182</td>\n",
       "    </tr>\n",
       "    <tr>\n",
       "      <th>1</th>\n",
       "      <td>210</td>\n",
       "      <td>1471</td>\n",
       "    </tr>\n",
       "  </tbody>\n",
       "</table>\n",
       "</div>"
      ],
      "text/plain": [
       "Predicted     0     1\n",
       "Actual               \n",
       "0          1637  4182\n",
       "1           210  1471"
      ]
     },
     "execution_count": 26,
     "metadata": {},
     "output_type": "execute_result"
    }
   ],
   "source": [
    "matrix = pd.crosstab(pd.Series(X['default payment next month'].values, name='Actual'), pd.Series([0 if t == -1 else 1 for t in T], name='Predicted'))\n",
    "print('Accuary of the model: ' + str((matrix[0][0] + matrix[1][1]) * 100 / m) + '%')\n",
    "\n",
    "print()\n",
    "\n",
    "# Precision & recall for class 0(people who have default payment)\n",
    "precision = round(matrix[0][0] / (matrix[0][0] + matrix[1][1]), 2)\n",
    "recall = round(matrix[0][0] / (matrix[0][0] + matrix[0][1]), 2)\n",
    "print('Precision for decision value 0: ' + str(precision))\n",
    "print('Recall for decision value 0: ' + str(recall))\n",
    "\n",
    "print()\n",
    "\n",
    "## Precision & recall for class 1(people who don't have default payment)\n",
    "precision = round(matrix[1][1] / (matrix[1][1] + matrix[0][1]), 2)\n",
    "recall = round(matrix[1][1] / (matrix[1][1] + matrix[1][0]), 2)\n",
    "print('Precision for decision value 1: ' + str(precision))\n",
    "print('Recall for decision value 1: ' + str(recall))\n",
    "\n",
    "matrix"
   ]
  },
  {
   "cell_type": "code",
   "execution_count": 27,
   "metadata": {
    "scrolled": false
   },
   "outputs": [
    {
     "name": "stdout",
     "output_type": "stream",
     "text": [
      "[-1  1]\n"
     ]
    },
    {
     "data": {
      "image/png": "[encoded data removed]",
      "text/plain": [
       "<Figure size 1440x576 with 1 Axes>"
      ]
     },
     "metadata": {},
     "output_type": "display_data"
    }
   ],
   "source": [
    "classifier = LDA()\n",
    "X = train\n",
    "Y = [-1 if y == 0 else 1 for y in X['default payment next month'].values ]\n",
    "m = np.shape(X)[0]\n",
    "classifier.train(X[['PAY_1', 'PAY_2','PAY_3','PAY_4','PAY_5','PAY_6', 'BILL_AMT1', 'BILL_AMT2', 'BILL_AMT3', 'BILL_AMT4', 'BILL_AMT5', 'BILL_AMT6', 'PAY_AMT1', 'PAY_AMT2', 'PAY_AMT3', 'PAY_AMT4', 'PAY_AMT5', 'PAY_AMT6']].values, Y)\n",
    "T = classifier.use(X[['PAY_1', 'PAY_2','PAY_3','PAY_4','PAY_5','PAY_6', 'BILL_AMT1', 'BILL_AMT2', 'BILL_AMT3', 'BILL_AMT4', 'BILL_AMT5', 'BILL_AMT6', 'PAY_AMT1', 'PAY_AMT2', 'PAY_AMT3', 'PAY_AMT4', 'PAY_AMT5', 'PAY_AMT6']].values)\n",
    "print(np.unique(T))\n",
    "plt.figure(figsize=(20, 8))\n",
    "plt.step(range(m)[0::150], Y[0::150], label='Actual', color='#1ECA4E')\n",
    "plt.step(range(m)[0::150], T[0::300], label='Predicted', color='#DE0D67')\n",
    "plt.legend()\n",
    "plt.show()"
   ]
  },
  {
   "cell_type": "markdown",
   "metadata": {},
   "source": [
    "### Confusion Matrix for LDA (Train Dataset)"
   ]
  },
  {
   "cell_type": "code",
   "execution_count": 28,
   "metadata": {},
   "outputs": [
    {
     "name": "stdout",
     "output_type": "stream",
     "text": [
      "Accuary: 50.22222222222222%\n",
      "\n",
      "Precision (0): 0.78\n",
      "Recall (0): 0.78\n",
      "\n",
      "Precision (1): 0.5\n",
      "Recall (1): 0.23\n"
     ]
    },
    {
     "data": {
      "text/html": [
       "<div>\n",
       "<style scoped>\n",
       "    .dataframe tbody tr th:only-of-type {\n",
       "        vertical-align: middle;\n",
       "    }\n",
       "\n",
       "    .dataframe tbody tr th {\n",
       "        vertical-align: top;\n",
       "    }\n",
       "\n",
       "    .dataframe thead th {\n",
       "        text-align: right;\n",
       "    }\n",
       "</style>\n",
       "<table border=\"1\" class=\"dataframe\">\n",
       "  <thead>\n",
       "    <tr style=\"text-align: right;\">\n",
       "      <th>Predicted</th>\n",
       "      <th>0</th>\n",
       "      <th>1</th>\n",
       "    </tr>\n",
       "    <tr>\n",
       "      <th>Actual</th>\n",
       "      <th></th>\n",
       "      <th></th>\n",
       "    </tr>\n",
       "  </thead>\n",
       "  <tbody>\n",
       "    <tr>\n",
       "      <th>0</th>\n",
       "      <td>8766</td>\n",
       "      <td>8716</td>\n",
       "    </tr>\n",
       "    <tr>\n",
       "      <th>1</th>\n",
       "      <td>2484</td>\n",
       "      <td>2534</td>\n",
       "    </tr>\n",
       "  </tbody>\n",
       "</table>\n",
       "</div>"
      ],
      "text/plain": [
       "Predicted     0     1\n",
       "Actual               \n",
       "0          8766  8716\n",
       "1          2484  2534"
      ]
     },
     "execution_count": 28,
     "metadata": {},
     "output_type": "execute_result"
    }
   ],
   "source": [
    "matrix = pd.crosstab(pd.Series(X['default payment next month'].values, name='Actual'), pd.Series([0 if t == -1 else 1 for t in T], name='Predicted'))\n",
    "print('Accuary: ' + str((matrix[0][0] + matrix[1][1]) * 100 / m) + '%')\n",
    "\n",
    "print()\n",
    "\n",
    "# Precision & recall for class <=50K\n",
    "precision = round(matrix[0][0] / (matrix[0][0] + matrix[1][1]), 2)\n",
    "recall = round(matrix[0][0] / (matrix[0][0] + matrix[0][1]), 2)\n",
    "print('Precision (0): ' + str(precision))\n",
    "print('Recall (0): ' + str(recall))\n",
    "\n",
    "print()\n",
    "\n",
    "## Precision & recall for class >50K\n",
    "precision = round(matrix[1][1] / (matrix[1][1] + matrix[0][1]), 2)\n",
    "recall = round(matrix[1][1] / (matrix[1][1] + matrix[1][0]), 2)\n",
    "print('Precision (1): ' + str(precision))\n",
    "print('Recall (1): ' + str(recall))\n",
    "\n",
    "matrix"
   ]
  },
  {
   "cell_type": "code",
   "execution_count": 29,
   "metadata": {},
   "outputs": [
    {
     "name": "stdout",
     "output_type": "stream",
     "text": [
      "[-1  1]\n"
     ]
    },
    {
     "data": {
      "image/png": "[encoded data removed]",
      "text/plain": [
       "<Figure size 1440x576 with 1 Axes>"
      ]
     },
     "metadata": {},
     "output_type": "display_data"
    }
   ],
   "source": [
    "classifier = LDA()\n",
    "X = test\n",
    "Y = [-1 if y == 0 else 1 for y in X['default payment next month'].values ]\n",
    "m = np.shape(X)[0]\n",
    "classifier.train(X[['PAY_1', 'PAY_2','PAY_3','PAY_4','PAY_5','PAY_6', 'BILL_AMT1', 'BILL_AMT2', 'BILL_AMT3', 'BILL_AMT4', 'BILL_AMT5', 'BILL_AMT6', 'PAY_AMT1', 'PAY_AMT2', 'PAY_AMT3', 'PAY_AMT4', 'PAY_AMT5', 'PAY_AMT6']].values, Y)\n",
    "T = classifier.use(X[['PAY_1', 'PAY_2','PAY_3','PAY_4','PAY_5','PAY_6', 'BILL_AMT1', 'BILL_AMT2', 'BILL_AMT3', 'BILL_AMT4', 'BILL_AMT5', 'BILL_AMT6', 'PAY_AMT1', 'PAY_AMT2', 'PAY_AMT3', 'PAY_AMT4', 'PAY_AMT5', 'PAY_AMT6']].values)\n",
    "print(np.unique(T))\n",
    "plt.figure(figsize=(20, 8))\n",
    "plt.step(range(m)[0::150], Y[0::150], label='Actual', color='#1ECA4E')\n",
    "plt.step(range(m)[0::150], T[0::300], label='Predicted', color='#DE0D67')\n",
    "plt.legend()\n",
    "plt.show()"
   ]
  },
  {
   "cell_type": "markdown",
   "metadata": {},
   "source": [
    "### Confusion Matrix for LDA  (After training the model on train dataset and using it to predict on the test dataset)"
   ]
  },
  {
   "cell_type": "code",
   "execution_count": 30,
   "metadata": {},
   "outputs": [
    {
     "name": "stdout",
     "output_type": "stream",
     "text": [
      "Accuary: 50.306666666666665%\n",
      "\n",
      "Precision (0): 0.77\n",
      "Recall (0): 0.78\n",
      "\n",
      "Precision (1): 0.51\n",
      "Recall (1): 0.23\n"
     ]
    },
    {
     "data": {
      "text/html": [
       "<div>\n",
       "<style scoped>\n",
       "    .dataframe tbody tr th:only-of-type {\n",
       "        vertical-align: middle;\n",
       "    }\n",
       "\n",
       "    .dataframe tbody tr th {\n",
       "        vertical-align: top;\n",
       "    }\n",
       "\n",
       "    .dataframe thead th {\n",
       "        text-align: right;\n",
       "    }\n",
       "</style>\n",
       "<table border=\"1\" class=\"dataframe\">\n",
       "  <thead>\n",
       "    <tr style=\"text-align: right;\">\n",
       "      <th>Predicted</th>\n",
       "      <th>0</th>\n",
       "      <th>1</th>\n",
       "    </tr>\n",
       "    <tr>\n",
       "      <th>Actual</th>\n",
       "      <th></th>\n",
       "      <th></th>\n",
       "    </tr>\n",
       "  </thead>\n",
       "  <tbody>\n",
       "    <tr>\n",
       "      <th>0</th>\n",
       "      <td>2921</td>\n",
       "      <td>2898</td>\n",
       "    </tr>\n",
       "    <tr>\n",
       "      <th>1</th>\n",
       "      <td>829</td>\n",
       "      <td>852</td>\n",
       "    </tr>\n",
       "  </tbody>\n",
       "</table>\n",
       "</div>"
      ],
      "text/plain": [
       "Predicted     0     1\n",
       "Actual               \n",
       "0          2921  2898\n",
       "1           829   852"
      ]
     },
     "execution_count": 30,
     "metadata": {},
     "output_type": "execute_result"
    }
   ],
   "source": [
    "matrix = pd.crosstab(pd.Series(X['default payment next month'].values, name='Actual'), pd.Series([0 if t == -1 else 1 for t in T], name='Predicted'))\n",
    "print('Accuary: ' + str((matrix[0][0] + matrix[1][1]) * 100 / m) + '%')\n",
    "\n",
    "print()\n",
    "\n",
    "# Precision & recall for class <=50K\n",
    "precision = round(matrix[0][0] / (matrix[0][0] + matrix[1][1]), 2)\n",
    "recall = round(matrix[0][0] / (matrix[0][0] + matrix[0][1]), 2)\n",
    "print('Precision (0): ' + str(precision))\n",
    "print('Recall (0): ' + str(recall))\n",
    "\n",
    "print()\n",
    "\n",
    "## Precision & recall for class >50K\n",
    "precision = round(matrix[1][1] / (matrix[1][1] + matrix[0][1]), 2)\n",
    "recall = round(matrix[1][1] / (matrix[1][1] + matrix[1][0]), 2)\n",
    "print('Precision (1): ' + str(precision))\n",
    "print('Recall (1): ' + str(recall))\n",
    "\n",
    "matrix"
   ]
  },
  {
   "cell_type": "code",
   "execution_count": 31,
   "metadata": {},
   "outputs": [
    {
     "name": "stdout",
     "output_type": "stream",
     "text": [
      "[-1  1]\n"
     ]
    },
    {
     "name": "stderr",
     "output_type": "stream",
     "text": [
      "C:\\Users\\Nipun\\Anaconda3\\lib\\site-packages\\ipykernel_launcher.py:6: RuntimeWarning: invalid value encountered in true_divide\n",
      "  \n"
     ]
    },
    {
     "data": {
      "image/png": "[encoded data removed]",
      "text/plain": [
       "<Figure size 1440x576 with 1 Axes>"
      ]
     },
     "metadata": {},
     "output_type": "display_data"
    }
   ],
   "source": [
    "classifier = LogisticRegression()\n",
    "X = train\n",
    "Y = [-1 if y == 0 else 1 for y in X['default payment next month'].values ]\n",
    "m = np.shape(X)[0]\n",
    "classifier.train(X[['PAY_1', 'PAY_2','PAY_3','PAY_4','PAY_5','PAY_6', 'BILL_AMT1', 'BILL_AMT2', 'BILL_AMT3', 'BILL_AMT4', 'BILL_AMT5', 'BILL_AMT6', 'PAY_AMT1', 'PAY_AMT2', 'PAY_AMT3', 'PAY_AMT4', 'PAY_AMT5', 'PAY_AMT6']].values, Y)\n",
    "T = classifier.use(X[['PAY_1', 'PAY_2','PAY_3','PAY_4','PAY_5','PAY_6', 'BILL_AMT1', 'BILL_AMT2', 'BILL_AMT3', 'BILL_AMT4', 'BILL_AMT5', 'BILL_AMT6', 'PAY_AMT1', 'PAY_AMT2', 'PAY_AMT3', 'PAY_AMT4', 'PAY_AMT5', 'PAY_AMT6']].values)\n",
    "print(np.unique(T))\n",
    "plt.figure(figsize=(20, 8))\n",
    "plt.step(range(m)[0::150], Y[0::150], label='Actual', color='#1ECA4E')\n",
    "plt.step(range(m)[0::150], T[0::150], label='Predicted', color='#DE0D67')\n",
    "plt.legend()\n",
    "plt.show()"
   ]
  },
  {
   "cell_type": "markdown",
   "metadata": {
    "collapsed": true
   },
   "source": [
    "### Confusion Matrix for Logistic Regression (Train Dataset)"
   ]
  },
  {
   "cell_type": "code",
   "execution_count": 32,
   "metadata": {},
   "outputs": [
    {
     "name": "stdout",
     "output_type": "stream",
     "text": [
      "Accuary: 69.1511111111111%\n",
      "\n",
      "Precision (0): 0.83\n",
      "Recall (0): 0.85\n",
      "\n",
      "Precision (1): 0.53\n",
      "Recall (1): 0.37\n"
     ]
    },
    {
     "data": {
      "text/html": [
       "<div>\n",
       "<style scoped>\n",
       "    .dataframe tbody tr th:only-of-type {\n",
       "        vertical-align: middle;\n",
       "    }\n",
       "\n",
       "    .dataframe tbody tr th {\n",
       "        vertical-align: top;\n",
       "    }\n",
       "\n",
       "    .dataframe thead th {\n",
       "        text-align: right;\n",
       "    }\n",
       "</style>\n",
       "<table border=\"1\" class=\"dataframe\">\n",
       "  <thead>\n",
       "    <tr style=\"text-align: right;\">\n",
       "      <th>Predicted</th>\n",
       "      <th>0</th>\n",
       "      <th>1</th>\n",
       "    </tr>\n",
       "    <tr>\n",
       "      <th>Actual</th>\n",
       "      <th></th>\n",
       "      <th></th>\n",
       "    </tr>\n",
       "  </thead>\n",
       "  <tbody>\n",
       "    <tr>\n",
       "      <th>0</th>\n",
       "      <td>12885</td>\n",
       "      <td>4597</td>\n",
       "    </tr>\n",
       "    <tr>\n",
       "      <th>1</th>\n",
       "      <td>2344</td>\n",
       "      <td>2674</td>\n",
       "    </tr>\n",
       "  </tbody>\n",
       "</table>\n",
       "</div>"
      ],
      "text/plain": [
       "Predicted      0     1\n",
       "Actual                \n",
       "0          12885  4597\n",
       "1           2344  2674"
      ]
     },
     "execution_count": 32,
     "metadata": {},
     "output_type": "execute_result"
    }
   ],
   "source": [
    "matrix = pd.crosstab(pd.Series(X['default payment next month'].values, name='Actual'), pd.Series([0 if t == -1 else 1 for t in T], name='Predicted'))\n",
    "print('Accuary: ' + str((matrix[0][0] + matrix[1][1]) * 100 / m) + '%')\n",
    "\n",
    "print()\n",
    "\n",
    "# Precision & recall for class <=50K\n",
    "precision = round(matrix[0][0] / (matrix[0][0] + matrix[1][1]), 2)\n",
    "recall = round(matrix[0][0] / (matrix[0][0] + matrix[0][1]), 2)\n",
    "print('Precision (0): ' + str(precision))\n",
    "print('Recall (0): ' + str(recall))\n",
    "\n",
    "print()\n",
    "\n",
    "## Precision & recall for class >50K\n",
    "precision = round(matrix[1][1] / (matrix[1][1] + matrix[0][1]), 2)\n",
    "recall = round(matrix[1][1] / (matrix[1][1] + matrix[1][0]), 2)\n",
    "print('Precision (1): ' + str(precision))\n",
    "print('Recall (1): ' + str(recall))\n",
    "\n",
    "matrix"
   ]
  },
  {
   "cell_type": "code",
   "execution_count": 33,
   "metadata": {},
   "outputs": [
    {
     "name": "stdout",
     "output_type": "stream",
     "text": [
      "[-1  1]\n"
     ]
    },
    {
     "name": "stderr",
     "output_type": "stream",
     "text": [
      "C:\\Users\\Nipun\\Anaconda3\\lib\\site-packages\\ipykernel_launcher.py:6: RuntimeWarning: invalid value encountered in true_divide\n",
      "  \n"
     ]
    },
    {
     "data": {
      "image/png": "[encoded data removed]",
      "text/plain": [
       "<Figure size 1440x576 with 1 Axes>"
      ]
     },
     "metadata": {},
     "output_type": "display_data"
    }
   ],
   "source": [
    "classifier = LogisticRegression()\n",
    "X = train\n",
    "Y = [-1 if y == 0 else 1 for y in X['default payment next month'].values ]\n",
    "m = np.shape(X)[0]\n",
    "classifier.train(X[['PAY_1', 'PAY_2','PAY_3','PAY_4','PAY_5','PAY_6', 'BILL_AMT1', 'BILL_AMT2', 'BILL_AMT3', 'BILL_AMT4', 'BILL_AMT5', 'BILL_AMT6', 'PAY_AMT1', 'PAY_AMT2', 'PAY_AMT3', 'PAY_AMT4', 'PAY_AMT5', 'PAY_AMT6']].values, Y)\n",
    "T = classifier.use(X[['PAY_1', 'PAY_2','PAY_3','PAY_4','PAY_5','PAY_6', 'BILL_AMT1', 'BILL_AMT2', 'BILL_AMT3', 'BILL_AMT4', 'BILL_AMT5', 'BILL_AMT6', 'PAY_AMT1', 'PAY_AMT2', 'PAY_AMT3', 'PAY_AMT4', 'PAY_AMT5', 'PAY_AMT6']].values)\n",
    "print(np.unique(T))\n",
    "plt.figure(figsize=(20, 8))\n",
    "plt.step(range(m)[0::150], Y[0::150], label='Actual', color='#1ECA4E')\n",
    "plt.step(range(m)[0::150], T[0::150], label='Predicted', color='#DE0D67')\n",
    "plt.legend()\n",
    "plt.show()"
   ]
  },
  {
   "cell_type": "markdown",
   "metadata": {},
   "source": [
    "### Confusion Matrix for Logistic Regression  (After training the model on train dataset and using it to predict on the test dataset)"
   ]
  },
  {
   "cell_type": "code",
   "execution_count": 34,
   "metadata": {},
   "outputs": [
    {
     "name": "stdout",
     "output_type": "stream",
     "text": [
      "Accuary: 66.35111111111111%\n",
      "\n",
      "Precision (0): 0.9\n",
      "Recall (0): 0.79\n",
      "\n",
      "Precision (1): 0.31\n",
      "Recall (1): 0.27\n"
     ]
    },
    {
     "data": {
      "text/html": [
       "<div>\n",
       "<style scoped>\n",
       "    .dataframe tbody tr th:only-of-type {\n",
       "        vertical-align: middle;\n",
       "    }\n",
       "\n",
       "    .dataframe tbody tr th {\n",
       "        vertical-align: top;\n",
       "    }\n",
       "\n",
       "    .dataframe thead th {\n",
       "        text-align: right;\n",
       "    }\n",
       "</style>\n",
       "<table border=\"1\" class=\"dataframe\">\n",
       "  <thead>\n",
       "    <tr style=\"text-align: right;\">\n",
       "      <th>Predicted</th>\n",
       "      <th>0</th>\n",
       "      <th>1</th>\n",
       "    </tr>\n",
       "    <tr>\n",
       "      <th>Actual</th>\n",
       "      <th></th>\n",
       "      <th></th>\n",
       "    </tr>\n",
       "  </thead>\n",
       "  <tbody>\n",
       "    <tr>\n",
       "      <th>0</th>\n",
       "      <td>13387</td>\n",
       "      <td>4095</td>\n",
       "    </tr>\n",
       "    <tr>\n",
       "      <th>1</th>\n",
       "      <td>3476</td>\n",
       "      <td>1542</td>\n",
       "    </tr>\n",
       "  </tbody>\n",
       "</table>\n",
       "</div>"
      ],
      "text/plain": [
       "Predicted      0     1\n",
       "Actual                \n",
       "0          13387  4095\n",
       "1           3476  1542"
      ]
     },
     "execution_count": 34,
     "metadata": {},
     "output_type": "execute_result"
    }
   ],
   "source": [
    "matrix = pd.crosstab(pd.Series(X['default payment next month'].values, name='Actual'), pd.Series([0 if t == -1 else 1 for t in T], name='Predicted'))\n",
    "print('Accuary: ' + str((matrix[0][0] + matrix[1][1]) * 100 / m) + '%')\n",
    "\n",
    "print()\n",
    "\n",
    "# Precision & recall for class <=50K\n",
    "precision = round(matrix[0][0] / (matrix[0][0] + matrix[1][1]), 2)\n",
    "recall = round(matrix[0][0] / (matrix[0][0] + matrix[0][1]), 2)\n",
    "print('Precision (0): ' + str(precision))\n",
    "print('Recall (0): ' + str(recall))\n",
    "\n",
    "print()\n",
    "\n",
    "## Precision & recall for class >50K\n",
    "precision = round(matrix[1][1] / (matrix[1][1] + matrix[0][1]), 2)\n",
    "recall = round(matrix[1][1] / (matrix[1][1] + matrix[1][0]), 2)\n",
    "print('Precision (1): ' + str(precision))\n",
    "print('Recall (1): ' + str(recall))\n",
    "\n",
    "matrix"
   ]
  },
  {
   "cell_type": "markdown",
   "metadata": {},
   "source": [
    "### Comparison of the models:\n",
    "Strategic REGRESSION is a decent direct order calculation. be that as it may, it has certain confinements as beneath: \n",
    "\n",
    "1. Two-Class Problems: \n",
    "\n",
    "Strategic relapse is expected for double arrangement issues. Despite the fact that, It can be reached out for multi-class characterization, however we have other better calculation for that. \n",
    "\n",
    "2. It is Unstable With Separated Classes. \n",
    "\n",
    "Strategic relapse can wind up flimsy when the classes are all around isolated. \n",
    "\n",
    "3. It is shaky when there are couple of cases from which to assess the parameters. \n",
    "\n",
    "To overcome the drabacks we have another classifier LDA. \n",
    "\n",
    "Straight DISCRIMINANT ANALYSIS is a direct strategy for multi-class characterization issues. Indeed, even with twofold characterization issues, it is a smart thought to attempt both calculated relapse and straight discriminant investigation. \n",
    "\n",
    "LDA requires a supposition of equivalent change covariance grids between the info factors for grouping phase of the investigation. In the event that the grids generously contrast, perceptions will have a tendency to be doled out to the class where changeability is more noteworthy. To defeat the issue, QDA was designed. QDA is an alteration of LDA which takes into account the above heterogeneity of classes' covariance grids. However as the quantity of indicators turns out to be high, we can encounter a computational cost with QDA. \n",
    "\n",
    "in any case, when all is said in done, LDA has a tendency to be superior to QDA if there are moderately few preparing perceptions, so along these lines lessening change is pivotal. QDA is prescribed if the preparation set is expansive, with the goal that the difference of the classifier isn't a noteworthy concern. \n",
    "\n",
    "Between Logistic relapse, LDA and QDA, we have to think about the accompanying: \n",
    "\n",
    "1. the decision boundary that is required. \n",
    "\n",
    "The pocket calculation is likewise regulated learning calculation and is utilized for twofold grouping. In this way, can be utilized adequately on the off chance that we have two classes of yields. They can work just on directly separable datasets similar to a straight characterization calculation."
   ]
  }
 ],
 "metadata": {
  "kernelspec": {
   "display_name": "Python 3",
   "language": "python",
   "name": "python3"
  },
  "language_info": {
   "codemirror_mode": {
    "name": "ipython",
    "version": 3
   },
   "file_extension": ".py",
   "mimetype": "text/x-python",
   "name": "python",
   "nbconvert_exporter": "python",
   "pygments_lexer": "ipython3",
   "version": "3.6.5"
  }
 },
 "nbformat": 4,
 "nbformat_minor": 2
}
